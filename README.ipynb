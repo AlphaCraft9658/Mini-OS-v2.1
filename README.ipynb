{
  "nbformat": 4,
  "nbformat_minor": 0,
  "metadata": {
    "colab": {
      "name": "Untitled4.ipynb",
      "provenance": []
    },
    "kernelspec": {
      "name": "python3",
      "display_name": "Python 3"
    }
  },
  "cells": [
    {
      "cell_type": "markdown",
      "metadata": {
        "id": "6dpT0ABvZmTn",
        "colab_type": "text"
      },
      "source": [
        "# MiniOS v2.1\n",
        "\n",
        "### What's new\n",
        "- Bug fixes\n",
        "- Allowed you to open more apps w/o restarting your computer\n",
        "\n",
        "### Coming from DOS?\n",
        "If you're coming from DOS, you cannot install this. This is the source code.\n",
        "\n",
        "### To run"
      ]
    },
    {
      "cell_type": "code",
      "metadata": {
        "id": "fbypyndvaTm_",
        "colab_type": "code",
        "colab": {}
      },
      "source": [
        ">>> import os\n",
        ">>> os.system(\"python3 Main.py\")"
      ],
      "execution_count": 0,
      "outputs": []
    },
    {
      "cell_type": "markdown",
      "metadata": {
        "id": "kcPlipBabD1i",
        "colab_type": "text"
      },
      "source": [
        "------------\n",
        "End of README"
      ]
    }
  ]
}
